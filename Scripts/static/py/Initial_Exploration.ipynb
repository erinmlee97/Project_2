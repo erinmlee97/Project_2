{
 "cells": [
  {
   "cell_type": "code",
   "execution_count": 18,
   "metadata": {},
   "outputs": [],
   "source": [
    "import pandas as pd\n",
    "import requests\n",
    "import json\n",
    "from pprint import pprint "
   ]
  },
  {
   "cell_type": "code",
   "execution_count": 45,
   "metadata": {},
   "outputs": [],
   "source": [
    "## Base URL for NASA exoplanet API\n",
    "base_url = \"https://exoplanetarchive.ipac.caltech.edu/cgi-bin/nstedAPI/nph-nstedAPI?\"\n",
    "\n",
    "## params\n",
    "params = {\n",
    "    \"table\": \"exoplanets\",\n",
    "    \"format\": \"json\"}\n",
    "\n",
    "## adding which columns to pull\n",
    "select_columns = \"&select=pl_hostname,pl_name,pl_orbper,pl_rade,st_dist\"\n",
    "\n",
    "## final url\n",
    "final_url = base_url + select_columns"
   ]
  },
  {
   "cell_type": "code",
   "execution_count": 46,
   "metadata": {},
   "outputs": [],
   "source": [
    "## API call\n",
    "response = requests.get(final_url, params=params).json()"
   ]
  },
  {
   "cell_type": "code",
   "execution_count": 57,
   "metadata": {},
   "outputs": [
    {
     "name": "stdout",
     "output_type": "stream",
     "text": [
      "{'pl_hostname': 'Kepler-154',\n",
      " 'pl_name': 'Kepler-154 b',\n",
      " 'pl_orbper': 33.040532,\n",
      " 'pl_rade': 2.26,\n",
      " 'st_dist': 939.89}\n"
     ]
    }
   ],
   "source": [
    "pprint(response[0])"
   ]
  },
  {
   "cell_type": "code",
   "execution_count": 65,
   "metadata": {},
   "outputs": [],
   "source": [
    "## looping through each exoplanet and filtering for radius less than twice the radius of Earth \n",
    "pl_diameters = []\n",
    "for planet in response:\n",
    "    try: \n",
    "        if planet[\"pl_rade\"] < 2:\n",
    "            \n",
    "            ## calculate diameter by multiplying by radius of Earth (6,371 km) and doubling (to get diameter)\n",
    "            pl_diameter = planet[\"pl_rade\"] * 6371 * 2\n",
    "            pl_diameters.append(pl_diameter)\n",
    "    \n",
    "    ## skip over planets where radius is unknown\n",
    "    except TypeError: \n",
    "        continue\n"
   ]
  },
  {
   "cell_type": "code",
   "execution_count": 67,
   "metadata": {},
   "outputs": [
    {
     "name": "stdout",
     "output_type": "stream",
     "text": [
      "1267\n"
     ]
    }
   ],
   "source": [
    "## total number of planets that have diameters no greater than twice that of Earth's diameter\n",
    "tot_planets = len(pl_diameters)\n",
    "print(tot_planets)"
   ]
  },
  {
   "cell_type": "code",
   "execution_count": 68,
   "metadata": {},
   "outputs": [
    {
     "name": "stdout",
     "output_type": "stream",
     "text": [
      "[16819.440000000002, 24209.8, 21852.530000000002, 16054.92, 13379.1, 17966.219999999998, 20578.329999999998, 19724.616, 18603.32, 14398.46]\n"
     ]
    }
   ],
   "source": [
    "print(pl_diameters[0:10])"
   ]
  },
  {
   "cell_type": "code",
   "execution_count": null,
   "metadata": {},
   "outputs": [],
   "source": []
  }
 ],
 "metadata": {
  "kernelspec": {
   "display_name": "Python 3",
   "language": "python",
   "name": "python3"
  },
  "language_info": {
   "codemirror_mode": {
    "name": "ipython",
    "version": 3
   },
   "file_extension": ".py",
   "mimetype": "text/x-python",
   "name": "python",
   "nbconvert_exporter": "python",
   "pygments_lexer": "ipython3",
   "version": "3.6.10"
  }
 },
 "nbformat": 4,
 "nbformat_minor": 4
}
