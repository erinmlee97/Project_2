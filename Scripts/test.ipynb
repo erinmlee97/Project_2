{
 "cells": [
  {
   "cell_type": "code",
   "execution_count": 15,
   "metadata": {},
   "outputs": [],
   "source": [
    "from flask import Flask, render_template, redirect, jsonify\n",
    "from flask_pymongo import PyMongo\n",
    "import pandas as pd\n",
    "import json\n",
    "from sqlalchemy import create_engine\n",
    "from flask_sqlalchemy import SQLAlchemy"
   ]
  },
  {
   "cell_type": "code",
   "execution_count": 16,
   "metadata": {},
   "outputs": [],
   "source": [
    "# Flask setup \n",
    "app = Flask(__name__)\n",
    "\n",
    "\n",
    "##############################################\n",
    "# Database setup\n",
    "##############################################\n",
    "\n",
    "# Initializing sqlite database engine\n",
    "sqlite_engine = create_engine('sqlite:///./star_wars_db.sqlite')\n",
    "\n",
    "#Use pandas to convert csv's into dataframes\n",
    "planets_csv = \"./static/data/planets.csv\"\n",
    "species_csv = \"./static/data/species.csv\"\n",
    "starships_csv = \"./static/data/starships.csv\"\n",
    "vehicles_csv = \"./static/data/vehicles.csv\"\n",
    "clean_planets_csv = \"./static/data/clean_planets.csv\""
   ]
  },
  {
   "cell_type": "code",
   "execution_count": 17,
   "metadata": {},
   "outputs": [],
   "source": [
    "planets_df = pd.read_csv(planets_csv)\n",
    "species_df = pd.read_csv(species_csv)\n",
    "starships_df = pd.read_csv(starships_csv)\n",
    "vehicles_df = pd.read_csv(vehicles_csv)\n",
    "clean_planets_df = pd.read_csv(clean_planets_csv)"
   ]
  },
  {
   "cell_type": "code",
   "execution_count": 18,
   "metadata": {},
   "outputs": [
    {
     "name": "stderr",
     "output_type": "stream",
     "text": [
      "C:\\Users\\flurp\\anaconda3\\lib\\site-packages\\flask_sqlalchemy\\__init__.py:834: FSADeprecationWarning: SQLALCHEMY_TRACK_MODIFICATIONS adds significant overhead and will be disabled by default in the future.  Set it to True or False to suppress this warning.\n",
      "  'SQLALCHEMY_TRACK_MODIFICATIONS adds significant overhead and '\n"
     ]
    }
   ],
   "source": [
    "##############################################\n",
    "# Connect flask app to database (SQLAlchemy)\n",
    "##############################################\n",
    "# app.config[\"SQLALCHEMY_DATABASE_URI\"] = 'sqlite:///star_wars_db.sqlite'\n",
    "# db = SQLAlchemy(app)\n",
    "\n",
    "# ## create reflection\n",
    "# db.Model.metadata.reflect(db.engine)"
   ]
  },
  {
   "cell_type": "code",
   "execution_count": 32,
   "metadata": {},
   "outputs": [],
   "source": [
    "from sqlalchemy import Table, MetaData\n",
    "planets = Table('planets', MetaData(sqlite_engine), autoload=True, autoload_with=sqlite_engine)"
   ]
  },
  {
   "cell_type": "code",
   "execution_count": 33,
   "metadata": {},
   "outputs": [
    {
     "data": {
      "text/plain": [
       "Table('planets', MetaData(bind=Engine(sqlite:///./star_wars_db.sqlite)), Column('index', BIGINT(), table=<planets>), Column('name', TEXT(), table=<planets>), Column('rotation_period', TEXT(), table=<planets>), Column('orbital_period', TEXT(), table=<planets>), Column('diameter', TEXT(), table=<planets>), Column('climate', TEXT(), table=<planets>), Column('gravity', TEXT(), table=<planets>), Column('terrain', TEXT(), table=<planets>), Column('surface_water', TEXT(), table=<planets>), Column('population', TEXT(), table=<planets>), schema=None)"
      ]
     },
     "execution_count": 33,
     "metadata": {},
     "output_type": "execute_result"
    }
   ],
   "source": [
    "planets"
   ]
  },
  {
   "cell_type": "code",
   "execution_count": 34,
   "metadata": {},
   "outputs": [],
   "source": [
    "session = Session(sqlite_engine)"
   ]
  },
  {
   "cell_type": "code",
   "execution_count": 36,
   "metadata": {},
   "outputs": [
    {
     "name": "stdout",
     "output_type": "stream",
     "text": [
      "0 Tatooine\n",
      "1 Alderaan\n",
      "2 Yavin IV\n",
      "3 Hoth\n",
      "4 Dagobah\n",
      "5 Bespin\n",
      "6 Endor\n",
      "7 Naboo\n",
      "8 Coruscant\n",
      "9 Kamino\n",
      "10 Geonosis\n",
      "11 Utapau\n",
      "12 Mustafar\n",
      "13 Kashyyyk\n",
      "14 Polis Massa\n",
      "15 Mygeeto\n",
      "16 Felucia\n",
      "17 Cato Neimoidia\n",
      "18 Saleucami\n",
      "19 Stewjon\n",
      "20 Eriadu\n",
      "21 Corellia\n",
      "22 Rodia\n",
      "23 Nal Hutta\n",
      "24 Dantooine\n",
      "25 Bestine IV\n",
      "26 Ord Mantell\n",
      "27 unknown\n",
      "28 Trandosha\n",
      "29 Socorro\n",
      "30 Mon Cala\n",
      "31 Chandrila\n",
      "32 Sullust\n",
      "33 Toydaria\n",
      "34 Malastare\n",
      "35 Dathomir\n",
      "36 Ryloth\n",
      "37 Aleen Minor\n",
      "38 Vulpter\n",
      "39 Troiken\n",
      "40 Tund\n",
      "41 Haruun Kal\n",
      "42 Cerea\n",
      "43 Glee Anselm\n",
      "44 Iridonia\n",
      "45 Tholoth\n",
      "46 Iktotch\n",
      "47 Quermia\n",
      "48 Dorin\n",
      "49 Champala\n",
      "50 Mirial\n",
      "51 Serenno\n",
      "52 Concord Dawn\n",
      "53 Zolan\n",
      "54 Ojom\n",
      "55 Skako\n",
      "56 Muunilinst\n",
      "57 Shili\n",
      "58 Kalee\n",
      "59 Umbara\n"
     ]
    }
   ],
   "source": [
    "results = session.query(planets).all()\n",
    "for result in results:\n",
    "    print(result[0], result[1])"
   ]
  },
  {
   "cell_type": "code",
   "execution_count": 19,
   "metadata": {},
   "outputs": [],
   "source": [
    "# class planets(db.Model):\n",
    "#     __tablename__ = \"planets\"\n",
    "#     __table_args__ = {\"extend_existing\": True}\n",
    "#     LOC_CODE = db.Column(db.Text, primary_key=True)\n",
    "\n",
    "# ## define species class (table)\n",
    "# class species(db.Model):\n",
    "#     __tablename__ = \"species\"\n",
    "#     __table_args__ = {\"extend_existing\": True}\n",
    "#     LOC_CODE = db.Column(db.Text, primary_key=True)\n",
    "\n",
    "# ## define starships class (table)\n",
    "# class starships(db.Model):\n",
    "#     __tablename__ = \"starships\"\n",
    "#     __table_args__ = {\"extend_existing\": True}\n",
    "#     LOC_CODE = db.Column(db.Text, primary_key=True)\n",
    "\n",
    "# ## define vehicles class (table)\n",
    "# class vehicles(db.Model):\n",
    "#     __tablename__ = \"vehicles\"\n",
    "#     __table_args__ = {\"extend_existing\": True}\n",
    "#     LOC_CODE = db.Column(db.Text, primary_key=True)\n",
    "\n",
    "# ## define clean_planets class (table)\n",
    "# class clean_planets(db.Model):\n",
    "#     __tablename__ = \"clean_planets\"\n",
    "#     __table_args__ = {\"extend_existing\": True}\n",
    "#     LOC_CODE = db.Column(db.Text, primary_key=True)    \n"
   ]
  },
  {
   "cell_type": "code",
   "execution_count": 27,
   "metadata": {},
   "outputs": [],
   "source": [
    "from sqlalchemy import inspect\n",
    "sel = [\n",
    "        planets.index,\n",
    "        planets.name,\n",
    "        planets.rotation_period,\n",
    "        planets.orbital_period,\n",
    "        planets.diameter,\n",
    "        planets.climate,\n",
    "        planets.gravity,\n",
    "        planets.terrain,\n",
    "        planets.surface_water,\n",
    "        planets.population\n",
    "    ]"
   ]
  },
  {
   "cell_type": "code",
   "execution_count": 28,
   "metadata": {},
   "outputs": [],
   "source": [
    "results = db.session.query(*sel)"
   ]
  },
  {
   "cell_type": "code",
   "execution_count": 30,
   "metadata": {},
   "outputs": [],
   "source": [
    "info = []\n",
    "for result in results:\n",
    "    planet_info = {\n",
    "        \"index\": result[0],\n",
    "        \"name\": result[1],\n",
    "        \"rotation_period\": result[2],\n",
    "        \"orbital_period\": result[3],\n",
    "        \"diameter\": result[4],\n",
    "        \"climate\": result[5],\n",
    "        \"gravity\": result[6],\n",
    "        \"terrain\": result[7],\n",
    "        \"surface_water\": result[8],\n",
    "        \"population\": result[9]\n",
    "        }\n",
    "    info.append(planet_info)"
   ]
  },
  {
   "cell_type": "code",
   "execution_count": null,
   "metadata": {},
   "outputs": [],
   "source": []
  }
 ],
 "metadata": {
  "kernelspec": {
   "display_name": "Python 3",
   "language": "python",
   "name": "python3"
  },
  "language_info": {
   "codemirror_mode": {
    "name": "ipython",
    "version": 3
   },
   "file_extension": ".py",
   "mimetype": "text/x-python",
   "name": "python",
   "nbconvert_exporter": "python",
   "pygments_lexer": "ipython3",
   "version": "3.7.6"
  }
 },
 "nbformat": 4,
 "nbformat_minor": 4
}
